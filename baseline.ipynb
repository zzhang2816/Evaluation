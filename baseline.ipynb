{
 "cells": [
  {
   "cell_type": "code",
   "execution_count": 16,
   "metadata": {},
   "outputs": [],
   "source": [
    "import numpy as np\n",
    "import pandas as pd\n",
    "from sklearn.metrics import mean_squared_error"
   ]
  },
  {
   "cell_type": "code",
   "execution_count": 20,
   "metadata": {},
   "outputs": [],
   "source": [
    "train_set=np.load(\"dataset/train.npz\")\n",
    "val_set=np.load(\"dataset/val.npz\")"
   ]
  },
  {
   "cell_type": "markdown",
   "metadata": {},
   "source": [
    "## Construct Baseline"
   ]
  },
  {
   "cell_type": "code",
   "execution_count": null,
   "metadata": {},
   "outputs": [],
   "source": [
    "from autogluon.tabular import TabularDataset, TabularPredictor"
   ]
  },
  {
   "cell_type": "code",
   "execution_count": 26,
   "metadata": {},
   "outputs": [],
   "source": [
    "def to_csv(data_set,filepath):\n",
    "    x = data_set['x'] #feature matrix\n",
    "    y = data_set['y'] #label matrix\n",
    "    locations = data_set['locations'] #location matrix\n",
    "    times = data_set['times'] #time matrix\n",
    "    print(f'the shape of x: {x.shape}\\nthe shape of y: {y.shape}\\nthe shape of locations: {locations.shape}\\nthe shape of times: {times.shape}')\n",
    "\n",
    "    feature=np.reshape(x,(x.shape[0],-1))\n",
    "    times = times.reshape(times.shape[0],1)\n",
    "    train_data = np.concatenate((feature, locations, times),axis=1)\n",
    "    print(f'the concatenate data shape: {train_data.shape}')\n",
    "    df = pd.DataFrame(train_data)\n",
    "    df['label']=y\n",
    "    df.to_csv(filepath,index=False) #save the data to csv\n"
   ]
  },
  {
   "cell_type": "code",
   "execution_count": 29,
   "metadata": {},
   "outputs": [],
   "source": [
    "def smape(A, F): # A: Actual, F: Forecast\n",
    "    return 100/len(A) * np.sum(2 * np.abs(F - A) / (np.abs(A) + np.abs(F)))"
   ]
  },
  {
   "cell_type": "code",
   "execution_count": null,
   "metadata": {},
   "outputs": [],
   "source": [
    "to_csv(train_set, \"dataset/train.csv\")"
   ]
  },
  {
   "cell_type": "code",
   "execution_count": 27,
   "metadata": {},
   "outputs": [
    {
     "name": "stdout",
     "output_type": "stream",
     "text": [
      "the shape of x: (18000, 8, 49)\n",
      "the shape of y: (18000, 1)\n",
      "the shape of locations: (18000, 2)\n",
      "the shape of times: (18000,)\n",
      "the concatenate data shape: (18000, 395)\n"
     ]
    }
   ],
   "source": [
    "to_csv(val_set, \"dataset/val.csv\")"
   ]
  },
  {
   "cell_type": "code",
   "execution_count": 10,
   "metadata": {},
   "outputs": [
    {
     "name": "stderr",
     "output_type": "stream",
     "text": [
      "Loaded data from: dataset/train.csv | Columns = 396 / 396 | Rows = 72000 -> 72000\n",
      "Loaded data from: dataset/val.csv | Columns = 396 / 396 | Rows = 72000 -> 72000\n"
     ]
    }
   ],
   "source": [
    "train_data = TabularDataset('dataset/train.csv')\n",
    "val_data = TabularDataset('dataset/val.csv')"
   ]
  },
  {
   "cell_type": "code",
   "execution_count": null,
   "metadata": {},
   "outputs": [],
   "source": [
    "# train\n",
    "predictor = TabularPredictor(label='label', \n",
    "                             eval_metric='root_mean_squared_error')\\\n",
    "            .fit(train_data,num_stack_levels=3,num_bag_folds=3)"
   ]
  },
  {
   "cell_type": "code",
   "execution_count": null,
   "metadata": {},
   "outputs": [],
   "source": [
    "# pred\n",
    "predictions = predictor.predict(val_data.drop(columns=['label']))\n",
    "y_true=val_data[\"label\"]"
   ]
  },
  {
   "cell_type": "code",
   "execution_count": 19,
   "metadata": {},
   "outputs": [
    {
     "data": {
      "text/plain": [
       "239.17158333333333"
      ]
     },
     "execution_count": 19,
     "metadata": {},
     "output_type": "execute_result"
    }
   ],
   "source": [
    "mean_squared_error(y_true, predictions)"
   ]
  },
  {
   "cell_type": "code",
   "execution_count": 31,
   "metadata": {},
   "outputs": [
    {
     "data": {
      "text/plain": [
       "145.4138888888889"
      ]
     },
     "execution_count": 31,
     "metadata": {},
     "output_type": "execute_result"
    }
   ],
   "source": [
    "smape(y_true, predictions)"
   ]
  },
  {
   "cell_type": "code",
   "execution_count": null,
   "metadata": {},
   "outputs": [],
   "source": []
  }
 ],
 "metadata": {
  "interpreter": {
   "hash": "eb3ee2cb987f0791d59217aac9c93edb0025d3eec1e91adab0e3ff51219fcd98"
  },
  "kernelspec": {
   "display_name": "Python 3.8.11 64-bit ('areix': conda)",
   "language": "python",
   "name": "python3"
  },
  "language_info": {
   "codemirror_mode": {
    "name": "ipython",
    "version": 3
   },
   "file_extension": ".py",
   "mimetype": "text/x-python",
   "name": "python",
   "nbconvert_exporter": "python",
   "pygments_lexer": "ipython3",
   "version": "3.8.8"
  },
  "orig_nbformat": 4
 },
 "nbformat": 4,
 "nbformat_minor": 2
}
