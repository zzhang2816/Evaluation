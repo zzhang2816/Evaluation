{
 "cells": [
  {
   "cell_type": "code",
   "execution_count": 1,
   "metadata": {},
   "outputs": [],
   "source": [
    "import numpy as np\n",
    "import pandas as pd"
   ]
  },
  {
   "cell_type": "code",
   "execution_count": 2,
   "metadata": {},
   "outputs": [],
   "source": [
    "train_set=np.load(\"dataset/train.npz\")\n",
    "val_set=np.load(\"dataset/val.npz\")"
   ]
  },
  {
   "cell_type": "code",
   "execution_count": 3,
   "metadata": {},
   "outputs": [],
   "source": [
    "def to_csv(data_set,filepath):\n",
    "    x = data_set['x'] #feature matrix\n",
    "    y = data_set['y'] #label matrix\n",
    "    locations = data_set['locations'] #location matrix\n",
    "    times = data_set['times'] #time matrix\n",
    "    print(f'the shape of x: {x.shape}\\nthe shape of y: {y.shape}\\nthe shape of locations: {locations.shape}\\nthe shape of times: {times.shape}')\n",
    "\n",
    "    feature=np.reshape(x,(x.shape[0],-1))\n",
    "    times = times.reshape(times.shape[0],1)\n",
    "    train_data = np.concatenate((feature, locations, times),axis=1)\n",
    "    print(f'the concatenate data shape: {train_data.shape}')\n",
    "    df = pd.DataFrame(train_data)\n",
    "    df['label']=y\n",
    "    df.to_csv(filepath,index=False) #save the data to csv\n"
   ]
  },
  {
   "cell_type": "code",
   "execution_count": 4,
   "metadata": {},
   "outputs": [
    {
     "name": "stdout",
     "output_type": "stream",
     "text": [
      "the shape of x: (72000, 8, 49)\n",
      "the shape of y: (72000, 1)\n",
      "the shape of locations: (72000, 2)\n",
      "the shape of times: (72000,)\n",
      "the concatenate data shape: (72000, 395)\n"
     ]
    }
   ],
   "source": [
    "to_csv(train_set, \"dataset/train.csv\")"
   ]
  },
  {
   "cell_type": "code",
   "execution_count": 5,
   "metadata": {},
   "outputs": [
    {
     "name": "stdout",
     "output_type": "stream",
     "text": [
      "the shape of x: (18000, 8, 49)\n",
      "the shape of y: (18000, 1)\n",
      "the shape of locations: (18000, 2)\n",
      "the shape of times: (18000,)\n",
      "the concatenate data shape: (18000, 395)\n"
     ]
    }
   ],
   "source": [
    "to_csv(val_set, \"dataset/val.csv\")"
   ]
  },
  {
   "cell_type": "markdown",
   "metadata": {},
   "source": [
    "## Construct Baseline"
   ]
  },
  {
   "cell_type": "code",
   "execution_count": 1,
   "metadata": {},
   "outputs": [],
   "source": [
    "from autogluon.tabular import TabularDataset, TabularPredictor\n",
    "from sklearn.metrics import mean_squared_error\n",
    "import numpy as np"
   ]
  },
  {
   "cell_type": "code",
   "execution_count": 2,
   "metadata": {},
   "outputs": [],
   "source": [
    "def smape(A, F): # A: Actual, F: Forecast\n",
    "    return 100/len(A) * np.sum(2 * np.abs(F - A) / (np.abs(A) + np.abs(F)))"
   ]
  },
  {
   "cell_type": "code",
   "execution_count": 3,
   "metadata": {},
   "outputs": [
    {
     "name": "stderr",
     "output_type": "stream",
     "text": [
      "/public/zhiyuan/anaconda3/envs/automl/lib/python3.8/site-packages/autogluon/core/dataset.py:54: FutureWarning: The error_bad_lines argument has been deprecated and will be removed in a future version.\n",
      "\n",
      "\n",
      "  data = load_pd.load(file_path)\n"
     ]
    }
   ],
   "source": [
    "train_data = TabularDataset('dataset/train.csv')\n",
    "val_data = TabularDataset('dataset/val.csv')"
   ]
  },
  {
   "cell_type": "code",
   "execution_count": 4,
   "metadata": {},
   "outputs": [
    {
     "name": "stderr",
     "output_type": "stream",
     "text": [
      "No path specified. Models will be saved in: \"AutogluonModels/ag-20211226_014848/\"\n",
      "Beginning AutoGluon training ... Time limit = 1500s\n",
      "AutoGluon will save models to \"AutogluonModels/ag-20211226_014848/\"\n",
      "AutoGluon Version:  0.2.0\n",
      "Train Data Rows:    72000\n",
      "Train Data Columns: 395\n",
      "Preprocessing data ...\n",
      "AutoGluon infers your prediction problem is: 'multiclass' (because dtype of label-column == float, but few unique label-values observed and label-values can be converted to int).\n",
      "\tFirst 10 (of 148) unique label values:  [0.0, 3.0, 4.0, 11.0, 5.0, 1.0, 7.0, 12.0, 14.0, 23.0]\n",
      "\tIf 'multiclass' is not the correct problem_type, please manually specify the problem_type argument in fit() (You may specify problem_type as one of: ['binary', 'multiclass', 'regression'])\n",
      "Warning: Some classes in the training set have fewer than 10 examples. AutoGluon will only keep 81 out of 148 classes for training and will not try to predict the rare classes. To keep more classes, increase the number of datapoints from these rare classes in the training data or reduce label_count_threshold.\n",
      "Fraction of data from classes with at least 10 examples that will be kept for training models: 0.9970972222222222\n",
      "Train Data Class Count: 81\n",
      "Using Feature Generators to preprocess the data ...\n",
      "Fitting AutoMLPipelineFeatureGenerator...\n",
      "\tAvailable Memory:                    110548.57 MB\n",
      "\tTrain Data (Original)  Memory Usage: 226.86 MB (0.2% of available memory)\n",
      "\tInferring data type of each feature based on column values. Set feature_metadata_in to manually specify special dtypes of the features.\n",
      "\tStage 1 Generators:\n",
      "\t\tFitting AsTypeFeatureGenerator...\n",
      "\tStage 2 Generators:\n",
      "\t\tFitting FillNaFeatureGenerator...\n",
      "\tStage 3 Generators:\n",
      "\t\tFitting IdentityFeatureGenerator...\n",
      "\tStage 4 Generators:\n",
      "\t\tFitting DropUniqueFeatureGenerator...\n",
      "\tTypes of features in original data (raw dtype, special dtypes):\n",
      "\t\t('float', []) : 395 | ['0', '1', '2', '3', '4', ...]\n",
      "\tTypes of features in processed data (raw dtype, special dtypes):\n",
      "\t\t('float', []) : 395 | ['0', '1', '2', '3', '4', ...]\n",
      "\t1.5s = Fit runtime\n",
      "\t395 features in original data used to generate 395 features in processed data.\n",
      "\tTrain Data (Processed) Memory Usage: 226.86 MB (0.2% of available memory)\n",
      "Data preprocessing and feature engineering runtime = 2.07s ...\n",
      "AutoGluon will gauge predictive performance using evaluation metric: 'root_mean_squared_error'\n",
      "\tTo change this, specify the eval_metric argument of fit()\n",
      "Fitting model: KNeighborsUnif_BAG_L1 ... Training model for up to 998.37s of the 1497.9s of remaining time.\n",
      "\t-5.5184\t = Validation root_mean_squared_error score\n",
      "\t0.65s\t = Training runtime\n",
      "\t136.69s\t = Validation runtime\n",
      "Fitting model: KNeighborsDist_BAG_L1 ... Training model for up to 859.2s of the 1358.74s of remaining time.\n",
      "\t-4.7259\t = Validation root_mean_squared_error score\n",
      "\t0.66s\t = Training runtime\n",
      "\t140.16s\t = Validation runtime\n",
      "Fitting model: NeuralNetFastAI_BAG_L1 ... Training model for up to 716.35s of the 1215.88s of remaining time.\n",
      "\tWarning: Exception caused NeuralNetFastAI_BAG_L1 to fail during training... Skipping this model.\n",
      "\t\t==:\n",
      "20736\n",
      "256\n",
      "Detailed Traceback:\n",
      "Traceback (most recent call last):\n",
      "  File \"/public/zhiyuan/anaconda3/envs/automl/lib/python3.8/site-packages/autogluon/tabular/trainer/abstract_trainer.py\", line 924, in _train_and_save\n",
      "    model = self._train_single(X, y, model, X_val, y_val, **model_fit_kwargs)\n",
      "  File \"/public/zhiyuan/anaconda3/envs/automl/lib/python3.8/site-packages/autogluon/tabular/trainer/abstract_trainer.py\", line 894, in _train_single\n",
      "    model.fit(X=X, y=y, **model_fit_kwargs)\n",
      "  File \"/public/zhiyuan/anaconda3/envs/automl/lib/python3.8/site-packages/autogluon/core/models/abstract/abstract_model.py\", line 411, in fit\n",
      "    self._fit(**kwargs)\n",
      "  File \"/public/zhiyuan/anaconda3/envs/automl/lib/python3.8/site-packages/autogluon/core/models/ensemble/stacker_ensemble_model.py\", line 142, in _fit\n",
      "    super()._fit(X=X, y=y, time_limit=time_limit, **kwargs)\n",
      "  File \"/public/zhiyuan/anaconda3/envs/automl/lib/python3.8/site-packages/autogluon/core/models/ensemble/bagged_ensemble_model.py\", line 209, in _fit\n",
      "    fold_model.fit(X=X_fold, y=y_fold, X_val=X_val_fold, y_val=y_val_fold, time_limit=time_limit_fold, **kwargs_fold)\n",
      "  File \"/public/zhiyuan/anaconda3/envs/automl/lib/python3.8/site-packages/autogluon/core/models/abstract/abstract_model.py\", line 411, in fit\n",
      "    self._fit(**kwargs)\n",
      "  File \"/public/zhiyuan/anaconda3/envs/automl/lib/python3.8/site-packages/autogluon/tabular/models/fastainn/tabular_nn_fastai.py\", line 251, in _fit\n",
      "    self.model.fit_one_cycle(params['epochs'], params['lr'], cbs=callbacks)\n",
      "  File \"/public/zhiyuan/anaconda3/envs/automl/lib/python3.8/site-packages/fastai/callback/schedule.py\", line 113, in fit_one_cycle\n",
      "    self.fit(n_epoch, cbs=ParamScheduler(scheds)+L(cbs), reset_opt=reset_opt, wd=wd)\n",
      "  File \"/public/zhiyuan/anaconda3/envs/automl/lib/python3.8/site-packages/fastai/learner.py\", line 221, in fit\n",
      "    self._with_events(self._do_fit, 'fit', CancelFitException, self._end_cleanup)\n",
      "  File \"/public/zhiyuan/anaconda3/envs/automl/lib/python3.8/site-packages/fastai/learner.py\", line 163, in _with_events\n",
      "    try: self(f'before_{event_type}');  f()\n",
      "  File \"/public/zhiyuan/anaconda3/envs/automl/lib/python3.8/site-packages/fastai/learner.py\", line 212, in _do_fit\n",
      "    self._with_events(self._do_epoch, 'epoch', CancelEpochException)\n",
      "  File \"/public/zhiyuan/anaconda3/envs/automl/lib/python3.8/site-packages/fastai/learner.py\", line 163, in _with_events\n",
      "    try: self(f'before_{event_type}');  f()\n",
      "  File \"/public/zhiyuan/anaconda3/envs/automl/lib/python3.8/site-packages/fastai/learner.py\", line 207, in _do_epoch\n",
      "    self._do_epoch_validate()\n",
      "  File \"/public/zhiyuan/anaconda3/envs/automl/lib/python3.8/site-packages/fastai/learner.py\", line 203, in _do_epoch_validate\n",
      "    with torch.no_grad(): self._with_events(self.all_batches, 'validate', CancelValidException)\n",
      "  File \"/public/zhiyuan/anaconda3/envs/automl/lib/python3.8/site-packages/fastai/learner.py\", line 163, in _with_events\n",
      "    try: self(f'before_{event_type}');  f()\n",
      "  File \"/public/zhiyuan/anaconda3/envs/automl/lib/python3.8/site-packages/fastai/learner.py\", line 169, in all_batches\n",
      "    for o in enumerate(self.dl): self.one_batch(*o)\n",
      "  File \"/public/zhiyuan/anaconda3/envs/automl/lib/python3.8/site-packages/fastai/learner.py\", line 194, in one_batch\n",
      "    self._with_events(self._do_one_batch, 'batch', CancelBatchException)\n",
      "  File \"/public/zhiyuan/anaconda3/envs/automl/lib/python3.8/site-packages/fastai/learner.py\", line 165, in _with_events\n",
      "    self(f'after_{event_type}');  final()\n",
      "  File \"/public/zhiyuan/anaconda3/envs/automl/lib/python3.8/site-packages/fastai/learner.py\", line 141, in __call__\n",
      "    def __call__(self, event_name): L(event_name).map(self._call_one)\n",
      "  File \"/public/zhiyuan/anaconda3/envs/automl/lib/python3.8/site-packages/fastcore/foundation.py\", line 154, in map\n",
      "    def map(self, f, *args, gen=False, **kwargs): return self._new(map_ex(self, f, *args, gen=gen, **kwargs))\n",
      "  File \"/public/zhiyuan/anaconda3/envs/automl/lib/python3.8/site-packages/fastcore/basics.py\", line 666, in map_ex\n",
      "    return list(res)\n",
      "  File \"/public/zhiyuan/anaconda3/envs/automl/lib/python3.8/site-packages/fastcore/basics.py\", line 651, in __call__\n",
      "    return self.func(*fargs, **kwargs)\n",
      "  File \"/public/zhiyuan/anaconda3/envs/automl/lib/python3.8/site-packages/fastai/learner.py\", line 145, in _call_one\n",
      "    for cb in self.cbs.sorted('order'): cb(event_name)\n",
      "  File \"/public/zhiyuan/anaconda3/envs/automl/lib/python3.8/site-packages/fastai/callback/core.py\", line 45, in __call__\n",
      "    if self.run and _run: res = getattr(self, event_name, noop)()\n",
      "  File \"/public/zhiyuan/anaconda3/envs/automl/lib/python3.8/site-packages/fastai/learner.py\", line 504, in after_batch\n",
      "    for met in mets: met.accumulate(self.learn)\n",
      "  File \"/public/zhiyuan/anaconda3/envs/automl/lib/python3.8/site-packages/fastai/metrics.py\", line 45, in accumulate\n",
      "    self.accum_values(pred,learn.y,learn)\n",
      "  File \"/public/zhiyuan/anaconda3/envs/automl/lib/python3.8/site-packages/fastai/metrics.py\", line 51, in accum_values\n",
      "    if self.flatten: preds,targs = flatten_check(preds,targs)\n",
      "  File \"/public/zhiyuan/anaconda3/envs/automl/lib/python3.8/site-packages/fastai/torch_core.py\", line 814, in flatten_check\n",
      "    test_eq(len(inp), len(targ))\n",
      "  File \"/public/zhiyuan/anaconda3/envs/automl/lib/python3.8/site-packages/fastcore/test.py\", line 36, in test_eq\n",
      "    test(a,b,equals, '==')\n",
      "  File \"/public/zhiyuan/anaconda3/envs/automl/lib/python3.8/site-packages/fastcore/test.py\", line 26, in test\n",
      "    assert cmp(a,b),f\"{cname}:\\n{a}\\n{b}\"\n",
      "AssertionError: ==:\n",
      "20736\n",
      "256\n"
     ]
    },
    {
     "name": "stderr",
     "output_type": "stream",
     "text": [
      "Fitting model: LightGBMXT_BAG_L1 ... Training model for up to 703.17s of the 1202.71s of remaining time.\n",
      "\t-13.7536\t = Validation root_mean_squared_error score\n",
      "\t510.83s\t = Training runtime\n",
      "\t0.68s\t = Validation runtime\n",
      "Fitting model: LightGBM_BAG_L1 ... Training model for up to 191.39s of the 690.92s of remaining time.\n",
      "\tRan out of time, early stopping on iteration 10. Best iteration is:\n",
      "\t[1]\ttrain_set's multi_logloss: 2.98776\ttrain_set's root_mean_squared_error: -12.3894\tvalid_set's multi_logloss: 3.27511\tvalid_set's root_mean_squared_error: -12.772\n",
      "\tRan out of time, early stopping on iteration 10. Best iteration is:\n",
      "\t[1]\ttrain_set's multi_logloss: 2.98003\ttrain_set's root_mean_squared_error: -12.388\tvalid_set's multi_logloss: 3.26874\tvalid_set's root_mean_squared_error: -12.6266\n",
      "\tRan out of time, early stopping on iteration 12. Best iteration is:\n",
      "\t[1]\ttrain_set's multi_logloss: 2.99012\ttrain_set's root_mean_squared_error: -12.4175\tvalid_set's multi_logloss: 3.31212\tvalid_set's root_mean_squared_error: -12.6455\n",
      "\t-12.6815\t = Validation root_mean_squared_error score\n",
      "\t176.6s\t = Training runtime\n",
      "\t0.59s\t = Validation runtime\n",
      "Fitting model: RandomForestGini_BAG_L1 ... Training model for up to 13.91s of the 513.44s of remaining time.\n",
      "\tWarning: Model is expected to require 250.4s to train, which exceeds the maximum time limit of 13.9s, skipping model...\n",
      "\tTime limit exceeded... Skipping RandomForestGini_BAG_L1.\n",
      "Fitting model: RandomForestEntr_BAG_L1 ... Training model for up to 9.9s of the 509.43s of remaining time.\n",
      "\tWarning: Model is expected to require 326.2s to train, which exceeds the maximum time limit of 9.9s, skipping model...\n",
      "\tTime limit exceeded... Skipping RandomForestEntr_BAG_L1.\n",
      "Fitting model: CatBoost_BAG_L1 ... Training model for up to 5.01s of the 504.54s of remaining time.\n",
      "\tTime limit exceeded... Skipping CatBoost_BAG_L1.\n",
      "Completed 1/20 k-fold bagging repeats ...\n",
      "Fitting model: WeightedEnsemble_L2 ... Training model for up to 360.0s of the 342.07s of remaining time.\n",
      "\t-4.7251\t = Validation root_mean_squared_error score\n",
      "\t166.35s\t = Training runtime\n",
      "\t0.03s\t = Validation runtime\n",
      "Fitting model: KNeighborsUnif_BAG_L2 ... Training model for up to 175.43s of the 174.98s of remaining time.\n",
      "\t-5.518\t = Validation root_mean_squared_error score\n",
      "\t1.06s\t = Training runtime\n",
      "\t164.98s\t = Validation runtime\n",
      "Fitting model: KNeighborsDist_BAG_L2 ... Training model for up to 6.99s of the 6.54s of remaining time.\n",
      "\tNot enough time to generate out-of-fold predictions for model. Estimated time required was 266.02s compared to 10s of available time.\n",
      "\tTime limit exceeded... Skipping KNeighborsDist_BAG_L2.\n",
      "Fitting model: NeuralNetFastAI_BAG_L2 ... Training model for up to 3.96s of the 3.52s of remaining time.\n",
      "\tWarning: Exception caused NeuralNetFastAI_BAG_L2 to fail during training... Skipping this model.\n",
      "\t\t==:\n",
      "20736\n",
      "256\n",
      "Detailed Traceback:\n",
      "Traceback (most recent call last):\n",
      "  File \"/public/zhiyuan/anaconda3/envs/automl/lib/python3.8/site-packages/autogluon/tabular/trainer/abstract_trainer.py\", line 924, in _train_and_save\n",
      "    model = self._train_single(X, y, model, X_val, y_val, **model_fit_kwargs)\n",
      "  File \"/public/zhiyuan/anaconda3/envs/automl/lib/python3.8/site-packages/autogluon/tabular/trainer/abstract_trainer.py\", line 894, in _train_single\n",
      "    model.fit(X=X, y=y, **model_fit_kwargs)\n",
      "  File \"/public/zhiyuan/anaconda3/envs/automl/lib/python3.8/site-packages/autogluon/core/models/abstract/abstract_model.py\", line 411, in fit\n",
      "    self._fit(**kwargs)\n",
      "  File \"/public/zhiyuan/anaconda3/envs/automl/lib/python3.8/site-packages/autogluon/core/models/ensemble/stacker_ensemble_model.py\", line 142, in _fit\n",
      "    super()._fit(X=X, y=y, time_limit=time_limit, **kwargs)\n",
      "  File \"/public/zhiyuan/anaconda3/envs/automl/lib/python3.8/site-packages/autogluon/core/models/ensemble/bagged_ensemble_model.py\", line 209, in _fit\n",
      "    fold_model.fit(X=X_fold, y=y_fold, X_val=X_val_fold, y_val=y_val_fold, time_limit=time_limit_fold, **kwargs_fold)\n",
      "  File \"/public/zhiyuan/anaconda3/envs/automl/lib/python3.8/site-packages/autogluon/core/models/abstract/abstract_model.py\", line 411, in fit\n",
      "    self._fit(**kwargs)\n",
      "  File \"/public/zhiyuan/anaconda3/envs/automl/lib/python3.8/site-packages/autogluon/tabular/models/fastainn/tabular_nn_fastai.py\", line 251, in _fit\n",
      "    self.model.fit_one_cycle(params['epochs'], params['lr'], cbs=callbacks)\n",
      "  File \"/public/zhiyuan/anaconda3/envs/automl/lib/python3.8/site-packages/fastai/callback/schedule.py\", line 113, in fit_one_cycle\n",
      "    self.fit(n_epoch, cbs=ParamScheduler(scheds)+L(cbs), reset_opt=reset_opt, wd=wd)\n",
      "  File \"/public/zhiyuan/anaconda3/envs/automl/lib/python3.8/site-packages/fastai/learner.py\", line 221, in fit\n",
      "    self._with_events(self._do_fit, 'fit', CancelFitException, self._end_cleanup)\n",
      "  File \"/public/zhiyuan/anaconda3/envs/automl/lib/python3.8/site-packages/fastai/learner.py\", line 163, in _with_events\n",
      "    try: self(f'before_{event_type}');  f()\n",
      "  File \"/public/zhiyuan/anaconda3/envs/automl/lib/python3.8/site-packages/fastai/learner.py\", line 212, in _do_fit\n",
      "    self._with_events(self._do_epoch, 'epoch', CancelEpochException)\n",
      "  File \"/public/zhiyuan/anaconda3/envs/automl/lib/python3.8/site-packages/fastai/learner.py\", line 163, in _with_events\n",
      "    try: self(f'before_{event_type}');  f()\n",
      "  File \"/public/zhiyuan/anaconda3/envs/automl/lib/python3.8/site-packages/fastai/learner.py\", line 207, in _do_epoch\n",
      "    self._do_epoch_validate()\n",
      "  File \"/public/zhiyuan/anaconda3/envs/automl/lib/python3.8/site-packages/fastai/learner.py\", line 203, in _do_epoch_validate\n",
      "    with torch.no_grad(): self._with_events(self.all_batches, 'validate', CancelValidException)\n",
      "  File \"/public/zhiyuan/anaconda3/envs/automl/lib/python3.8/site-packages/fastai/learner.py\", line 163, in _with_events\n",
      "    try: self(f'before_{event_type}');  f()\n",
      "  File \"/public/zhiyuan/anaconda3/envs/automl/lib/python3.8/site-packages/fastai/learner.py\", line 169, in all_batches\n",
      "    for o in enumerate(self.dl): self.one_batch(*o)\n",
      "  File \"/public/zhiyuan/anaconda3/envs/automl/lib/python3.8/site-packages/fastai/learner.py\", line 194, in one_batch\n",
      "    self._with_events(self._do_one_batch, 'batch', CancelBatchException)\n",
      "  File \"/public/zhiyuan/anaconda3/envs/automl/lib/python3.8/site-packages/fastai/learner.py\", line 165, in _with_events\n",
      "    self(f'after_{event_type}');  final()\n",
      "  File \"/public/zhiyuan/anaconda3/envs/automl/lib/python3.8/site-packages/fastai/learner.py\", line 141, in __call__\n",
      "    def __call__(self, event_name): L(event_name).map(self._call_one)\n",
      "  File \"/public/zhiyuan/anaconda3/envs/automl/lib/python3.8/site-packages/fastcore/foundation.py\", line 154, in map\n",
      "    def map(self, f, *args, gen=False, **kwargs): return self._new(map_ex(self, f, *args, gen=gen, **kwargs))\n",
      "  File \"/public/zhiyuan/anaconda3/envs/automl/lib/python3.8/site-packages/fastcore/basics.py\", line 666, in map_ex\n",
      "    return list(res)\n",
      "  File \"/public/zhiyuan/anaconda3/envs/automl/lib/python3.8/site-packages/fastcore/basics.py\", line 651, in __call__\n",
      "    return self.func(*fargs, **kwargs)\n",
      "  File \"/public/zhiyuan/anaconda3/envs/automl/lib/python3.8/site-packages/fastai/learner.py\", line 145, in _call_one\n",
      "    for cb in self.cbs.sorted('order'): cb(event_name)\n",
      "  File \"/public/zhiyuan/anaconda3/envs/automl/lib/python3.8/site-packages/fastai/callback/core.py\", line 45, in __call__\n",
      "    if self.run and _run: res = getattr(self, event_name, noop)()\n",
      "  File \"/public/zhiyuan/anaconda3/envs/automl/lib/python3.8/site-packages/fastai/learner.py\", line 504, in after_batch\n",
      "    for met in mets: met.accumulate(self.learn)\n",
      "  File \"/public/zhiyuan/anaconda3/envs/automl/lib/python3.8/site-packages/fastai/metrics.py\", line 45, in accumulate\n",
      "    self.accum_values(pred,learn.y,learn)\n",
      "  File \"/public/zhiyuan/anaconda3/envs/automl/lib/python3.8/site-packages/fastai/metrics.py\", line 51, in accum_values\n",
      "    if self.flatten: preds,targs = flatten_check(preds,targs)\n",
      "  File \"/public/zhiyuan/anaconda3/envs/automl/lib/python3.8/site-packages/fastai/torch_core.py\", line 814, in flatten_check\n",
      "    test_eq(len(inp), len(targ))\n",
      "  File \"/public/zhiyuan/anaconda3/envs/automl/lib/python3.8/site-packages/fastcore/test.py\", line 36, in test_eq\n",
      "    test(a,b,equals, '==')\n",
      "  File \"/public/zhiyuan/anaconda3/envs/automl/lib/python3.8/site-packages/fastcore/test.py\", line 26, in test\n",
      "    assert cmp(a,b),f\"{cname}:\\n{a}\\n{b}\"\n",
      "AssertionError: ==:\n",
      "20736\n",
      "256\n"
     ]
    },
    {
     "name": "stderr",
     "output_type": "stream",
     "text": [
      "Completed 1/20 k-fold bagging repeats ...\n",
      "Fitting model: WeightedEnsemble_L3 ... Training model for up to 360.0s of the -4.07s of remaining time.\n",
      "\t-5.518\t = Validation root_mean_squared_error score\n",
      "\t0.1s\t = Training runtime\n",
      "\t0.03s\t = Validation runtime\n",
      "AutoGluon training complete, total runtime = 1505.36s ...\n",
      "TabularPredictor saved. To load, use: predictor = TabularPredictor.load(\"AutogluonModels/ag-20211226_014848/\")\n"
     ]
    }
   ],
   "source": [
    "# train\n",
    "predictor = TabularPredictor(label='label', \n",
    "                             eval_metric='root_mean_squared_error')\\\n",
    "            .fit(train_data,num_stack_levels=1,num_bag_folds=3,time_limit=60*25)"
   ]
  },
  {
   "cell_type": "code",
   "execution_count": 5,
   "metadata": {},
   "outputs": [],
   "source": [
    "# pred\n",
    "predictions = predictor.predict(val_data.drop(columns=['label']))\n",
    "y_true=val_data[\"label\"]"
   ]
  },
  {
   "cell_type": "code",
   "execution_count": 7,
   "metadata": {},
   "outputs": [
    {
     "data": {
      "text/plain": [
       "31.69333333333333"
      ]
     },
     "execution_count": 7,
     "metadata": {},
     "output_type": "execute_result"
    }
   ],
   "source": [
    "mean_squared_error(y_true, predictions)"
   ]
  },
  {
   "cell_type": "code",
   "execution_count": 9,
   "metadata": {},
   "outputs": [
    {
     "data": {
      "text/plain": [
       "46.20446178698806"
      ]
     },
     "execution_count": 9,
     "metadata": {},
     "output_type": "execute_result"
    }
   ],
   "source": [
    "smape(y_true, predictions)"
   ]
  },
  {
   "cell_type": "code",
   "execution_count": 11,
   "metadata": {},
   "outputs": [
    {
     "name": "stdout",
     "output_type": "stream",
     "text": [
      "*** Summary of fit() ***\n",
      "Estimated performance of each model:\n",
      "                   model  score_val  pred_time_val    fit_time  pred_time_val_marginal  fit_time_marginal  stack_level  can_infer  fit_order\n",
      "0    WeightedEnsemble_L2  -4.725117     277.466290  344.274497                0.032058         166.351071            2       True          5\n",
      "1  KNeighborsDist_BAG_L1  -4.725940     140.160182    0.664495              140.160182           0.664495            1       True          2\n",
      "2  KNeighborsUnif_BAG_L2  -5.518024     443.090148  689.811658              164.976892           1.055174            2       True          6\n",
      "3    WeightedEnsemble_L3  -5.518024     443.115176  689.910855                0.025029           0.099197            3       True          7\n",
      "4  KNeighborsUnif_BAG_L1  -5.518432     136.686275    0.654959              136.686275           0.654959            1       True          1\n",
      "5        LightGBM_BAG_L1 -12.681532       0.587774  176.603972                0.587774         176.603972            1       True          4\n",
      "6      LightGBMXT_BAG_L1 -13.753636       0.679024  510.833058                0.679024         510.833058            1       True          3\n",
      "Number of models trained: 7\n",
      "Types of models trained:\n",
      "{'StackerEnsembleModel_KNN', 'WeightedEnsembleModel', 'StackerEnsembleModel_LGB'}\n",
      "Bagging used: True  (with 3 folds)\n",
      "Multi-layer stack-ensembling used: True  (with 3 levels)\n",
      "Feature Metadata (Processed):\n",
      "(raw dtype, special dtypes):\n",
      "('float', []) : 395 | ['0', '1', '2', '3', '4', ...]\n",
      "*** End of fit() summary ***\n"
     ]
    },
    {
     "name": "stderr",
     "output_type": "stream",
     "text": [
      "/public/zhiyuan/anaconda3/envs/automl/lib/python3.8/site-packages/autogluon/core/utils/plots.py:140: UserWarning: AutoGluon summary plots cannot be created because bokeh is not installed. To see plots, please do: \"pip install bokeh==2.0.1\"\n",
      "  warnings.warn('AutoGluon summary plots cannot be created because bokeh is not installed. To see plots, please do: \"pip install bokeh==2.0.1\"')\n"
     ]
    }
   ],
   "source": [
    "results = predictor.fit_summary()"
   ]
  },
  {
   "cell_type": "code",
   "execution_count": null,
   "metadata": {},
   "outputs": [],
   "source": []
  }
 ],
 "metadata": {
  "interpreter": {
   "hash": "150da535fe66555c282a5aea322e62219926b3d806d9377defda9e67aaa499a3"
  },
  "kernelspec": {
   "display_name": "automl",
   "language": "python",
   "name": "python3"
  },
  "language_info": {
   "codemirror_mode": {
    "name": "ipython",
    "version": 3
   },
   "file_extension": ".py",
   "mimetype": "text/x-python",
   "name": "python",
   "nbconvert_exporter": "python",
   "pygments_lexer": "ipython3",
   "version": "3.8.8"
  }
 },
 "nbformat": 4,
 "nbformat_minor": 2
}
